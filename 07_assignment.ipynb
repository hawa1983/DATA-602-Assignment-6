{
  "nbformat": 4,
  "nbformat_minor": 0,
  "metadata": {
    "colab": {
      "provenance": [],
      "collapsed_sections": [
        "AC-Nm7gLNkUu",
        "QentLCZuOIJr",
        "V85lkEewWvQq",
        "DZ2HI9_J4lJg",
        "UgKTk21o4-R_",
        "3j2P5djY5k7Y",
        "IK272_F1J5Wk",
        "cNd2vE1igxWx",
        "KZcF5LKGjBva",
        "uNMfZzgRjh6J",
        "p8YuL6Phl6jJ",
        "4tf8Zg5ZmyJV",
        "vgp2Xf91nXI5",
        "X3sVVa7cv5CT",
        "LBS_TGL0zOSb",
        "eBii_KOA25lN",
        "XTEihyW25lLU"
      ],
      "include_colab_link": true
    },
    "kernelspec": {
      "name": "python3",
      "display_name": "Python 3"
    }
  },
  "cells": [
    {
      "cell_type": "markdown",
      "metadata": {
        "id": "view-in-github",
        "colab_type": "text"
      },
      "source": [
        "<a href=\"https://colab.research.google.com/github/hawa1983/DATA-602-Assignment-6/blob/main/07_assignment.ipynb\" target=\"_parent\"><img src=\"https://colab.research.google.com/assets/colab-badge.svg\" alt=\"Open In Colab\"/></a>"
      ]
    },
    {
      "cell_type": "markdown",
      "metadata": {
        "id": "rd2QZetSDszc"
      },
      "source": [
        "# **Assignment 7**\n",
        "# **Fomba Kassoh & Souleyman Doumbia**\n",
        "\n",
        "# **Weeks 8 & 9 - Pandas**\n",
        "* In this homework assignment, you will explore and analyze a public dataset of your choosing. Since this assignment is “open-ended” in nature, you are free to expand upon the requirements below. However, you must meet the minimum requirments as indicated in each section.\n",
        "\n",
        "* You must use Pandas as the **primary tool** to process your data.\n",
        "\n",
        "* The preferred method for this analysis is in a .ipynb file. Feel free to use whichever platform of your choosing.  \n",
        " * https://www.youtube.com/watch?v=inN8seMm7UI (Getting started with Colab).\n",
        "\n",
        "* Your data should need some \"work\", or be considered \"dirty\".  You must show your skills in data cleaning/wrangling.\n",
        "\n",
        "### **Some data examples:**\n",
        "•\thttps://www.data.gov/\n",
        "\n",
        "•\thttps://opendata.cityofnewyork.us/\n",
        "\n",
        "•\thttps://datasetsearch.research.google.com/\n",
        "\n",
        "•\thttps://archive.ics.uci.edu/ml/index.php\n",
        "\n",
        "### **Resources:**\n",
        "\n",
        "•\thttps://pandas.pydata.org/pandas-docs/stable/getting_started/10min.html\n",
        "\n",
        "•\thttps://pandas.pydata.org/pandas-docs/stable/user_guide/visualization.html\n",
        "\n",
        "\n",
        "### **Headings or comments**\n",
        "**You are required to make use of comments, or headings for each section.  You must explain what your code is doing, and the results of running your code.**  Act as if you were giving this assignment to your manager - you must include clear and descriptive information for each section.\n",
        "\n",
        "### **You may work as a group or indivdually on this assignment.**\n"
      ]
    },
    {
      "cell_type": "markdown",
      "metadata": {
        "id": "uW3w6p8rqgxu"
      },
      "source": [
        "# Introduction\n",
        "\n",
        "In this section, please describe the dataset you are using.  Include a link to the source of this data.  You should also provide some explanation on why you choose this dataset."
      ]
    },
    {
      "cell_type": "markdown",
      "metadata": {
        "id": "L0PnfMOFzOXz"
      },
      "source": [
        "For the purpose of this analysis, we are utilizing a dataset that encapsulates the payroll information of employees of the City of New York. This dataset provides a comprehensive view of the compensation structure within the city, including base salary, overtime hours, total overtime paid, and additional remunerations under the category of 'Total Other Pay'. The dataset covers various job titles, from management to specialist roles, and includes additional details such as start dates, work location boroughs, and leave status.\n",
        "\n",
        "The source of this data is the NYC Open Data portal, https://data.cityofnewyork.us/City-Government/Citywide-Payroll-Data-Fiscal-Year-/k397-673e/about_data, which provides public access to citywide payroll information as part of New York City's commitment to transparency and accountability in public service.\n",
        "\n",
        "This dataset was selected to provide insight into the payroll structure of New City government. By examining this dataset, we aim to understand how resources are allocated among city employees, who play a crucial role in running the city. The analysis may shed light on patterns of workforce deployment, financial compensation, and the work-life balance of employees as reflected by overtime hours."
      ]
    },
    {
      "cell_type": "markdown",
      "metadata": {
        "id": "3bp8cdDxDs2t"
      },
      "source": [
        "______________\n",
        "# Data Exploration\n",
        "Import your dataset into your .ipynb, create dataframes, and explore your data.  \n",
        "\n",
        "Include:\n",
        "\n",
        "* Summary statistics means, medians, quartiles,\n",
        "* Missing value information\n",
        "* Any other relevant information about the dataset.  \n",
        "\n"
      ]
    },
    {
      "cell_type": "markdown",
      "source": [
        "####**Import the dataset and create dataframes, final_data**"
      ],
      "metadata": {
        "id": "AC-Nm7gLNkUu"
      }
    },
    {
      "cell_type": "code",
      "source": [
        "import pandas as pd\n",
        "import requests\n",
        "import io\n",
        "\n",
        "base_url = \"https://data.cityofnewyork.us/resource/k397-673e.csv\"\n",
        "offset = 0\n",
        "data = []\n",
        "record_count = 0\n",
        "\n",
        "while True:\n",
        "    # Construct the URL with the current offset\n",
        "    url = f\"{base_url}?$offset={offset}\"\n",
        "\n",
        "    # Make the API request\n",
        "    response = requests.get(url)\n",
        "\n",
        "    # Check if the response is successful\n",
        "    if response.status_code == 200:\n",
        "        # Convert the CSV response to a DataFrame\n",
        "        chunk = pd.read_csv(io.StringIO(response.text))\n",
        "\n",
        "        # Add the data to your list\n",
        "        data.append(chunk)\n",
        "\n",
        "        # Update the record count\n",
        "        record_count += len(chunk)\n",
        "\n",
        "        # Check if we've reached 100,000 records\n",
        "        if record_count >= 100000:\n",
        "            break\n",
        "\n",
        "        # If less than 1000 rows are returned, also break the loop\n",
        "        if len(chunk) < 1000:\n",
        "            break\n",
        "\n",
        "        # Increment the offset for the next request\n",
        "        offset += 1000\n",
        "    else:\n",
        "        print(f\"Failed to fetch data: {response.status_code}\")\n",
        "        break\n",
        "\n",
        "# Concatenate the list of DataFrames into a single DataFrame\n",
        "final_data = pd.concat(data, ignore_index=True)\n",
        "print(final_data.head())\n",
        "\n"
      ],
      "metadata": {
        "colab": {
          "base_uri": "https://localhost:8080/"
        },
        "id": "MveyCOLmryzA",
        "outputId": "d3083c9d-7ee6-4a90-851d-bb43bc2b1d41"
      },
      "execution_count": 1,
      "outputs": [
        {
          "output_type": "stream",
          "name": "stdout",
          "text": [
            "   fiscal_year  payroll_number                agency_name    last_name  \\\n",
            "0         2023            67.0  ADMIN FOR CHILDREN'S SVCS         DIAZ   \n",
            "1         2023            67.0  ADMIN FOR CHILDREN'S SVCS     FIGUEROA   \n",
            "2         2023            67.0  ADMIN FOR CHILDREN'S SVCS  D'ACUNTO JR   \n",
            "3         2023            67.0  ADMIN FOR CHILDREN'S SVCS         DIAZ   \n",
            "4         2023            67.0  ADMIN FOR CHILDREN'S SVCS        ELLIS   \n",
            "\n",
            "  first_name mid_init        agency_start_date work_location_borough  \\\n",
            "0      YANNA        N  2016-05-16T00:00:00.000                 BRONX   \n",
            "1       JUAN        E  2018-10-15T00:00:00.000             MANHATTAN   \n",
            "2       PAUL        C  2016-05-02T00:00:00.000             MANHATTAN   \n",
            "3        ANA        R  2007-06-04T00:00:00.000                QUEENS   \n",
            "4   SAMANTHA        N  2021-05-24T00:00:00.000              BROOKLYN   \n",
            "\n",
            "             title_description leave_status_as_of_june_30  base_salary  \\\n",
            "0  CHILD PROTECTIVE SPECIALIST                     ACTIVE     65921.00   \n",
            "1        COMMUNITY COORDINATOR                     ACTIVE     71028.00   \n",
            "2                      PLUMBER                     ACTIVE       398.02   \n",
            "3  CHILD PROTECTIVE SPECIALIST                     ACTIVE     65921.00   \n",
            "4  CHILD PROTECTIVE SPECIALIST                     ACTIVE     64232.00   \n",
            "\n",
            "   pay_basis  regular_hours  regular_gross_paid  ot_hours  total_ot_paid  \\\n",
            "0  per Annum         1820.0            65998.30    234.50       10361.81   \n",
            "1  per Annum         1820.0            71070.46      0.00           0.00   \n",
            "2    per Day         1820.0           120452.43    104.50       13831.72   \n",
            "3  per Annum         1820.0            65998.30     67.75        3110.50   \n",
            "4  per Annum         1673.0            57415.37     37.00        1543.34   \n",
            "\n",
            "   total_other_pay  \n",
            "0          5740.13  \n",
            "1          3040.44  \n",
            "2             5.06  \n",
            "3         17948.24  \n",
            "4          4055.33  \n"
          ]
        }
      ]
    },
    {
      "cell_type": "markdown",
      "source": [
        "####**Summary statistics means, medians, quartiles**"
      ],
      "metadata": {
        "id": "QentLCZuOIJr"
      }
    },
    {
      "cell_type": "code",
      "source": [
        "\n",
        "# Selecting the columns of interest and grouping by 'fiscal_year'\n",
        "selected_columns = ['base_salary', 'regular_hours', 'regular_gross_paid', 'ot_hours', 'total_ot_paid', 'total_other_pay']\n",
        "summary = final_data.groupby('title_description')[selected_columns].describe()\n",
        "\n",
        "print(summary)\n"
      ],
      "metadata": {
        "id": "3T3zNRXoHu3Y",
        "colab": {
          "base_uri": "https://localhost:8080/"
        },
        "outputId": "658f60f0-da30-461d-9848-9d5dee82055c"
      },
      "execution_count": 2,
      "outputs": [
        {
          "output_type": "stream",
          "name": "stdout",
          "text": [
            "                                            base_salary                 \\\n",
            "                                                  count           mean   \n",
            "title_description                                                        \n",
            "*ATTORNEY AT LAW                                   66.0   87280.363636   \n",
            "*CERTIFIED APPLICATIONS DEVELOPER                   3.0   96373.000000   \n",
            "*CERTIFIED DATABASE ADMINISTRATOR                  12.0  108460.750000   \n",
            "*CERTIFIED LOCAL AREA NETWORK ADMINISTRATOR        11.0   97654.545455   \n",
            "*COOK                                              58.0   40083.775862   \n",
            "...                                                 ...            ...   \n",
            "TELECOMMUNICATIONS ASSOCIATE                      100.0   73456.760000   \n",
            "TEMPORARY CLERK                                  3790.0     536.043193   \n",
            "TRAINER ASSISTANT                                 600.0   43486.794133   \n",
            "VOTING MACHINE TECHNICIAN                        1102.0   40371.543457   \n",
            "YOUTH DEVELOPMENT SPECIALIST                     4272.0   50486.968633   \n",
            "\n",
            "                                                                     \\\n",
            "                                                      std       min   \n",
            "title_description                                                     \n",
            "*ATTORNEY AT LAW                             10669.476474  69085.00   \n",
            "*CERTIFIED APPLICATIONS DEVELOPER             4787.563890  91789.00   \n",
            "*CERTIFIED DATABASE ADMINISTRATOR            11991.138123  89473.00   \n",
            "*CERTIFIED LOCAL AREA NETWORK ADMINISTRATOR  17719.396724  79462.00   \n",
            "*COOK                                         2313.206524  30883.00   \n",
            "...                                                   ...       ...   \n",
            "TELECOMMUNICATIONS ASSOCIATE                 19316.293028  45997.00   \n",
            "TEMPORARY CLERK                               3837.535996     11.90   \n",
            "TRAINER ASSISTANT                            23223.118103     24.16   \n",
            "VOTING MACHINE TECHNICIAN                     6976.872409  28655.00   \n",
            "YOUTH DEVELOPMENT SPECIALIST                  5704.781035  39486.00   \n",
            "\n",
            "                                                                              \\\n",
            "                                                   25%        50%        75%   \n",
            "title_description                                                              \n",
            "*ATTORNEY AT LAW                              77015.00   85029.00   95480.25   \n",
            "*CERTIFIED APPLICATIONS DEVELOPER             93889.00   95989.00   98665.00   \n",
            "*CERTIFIED DATABASE ADMINISTRATOR            101606.50  109994.00  115144.50   \n",
            "*CERTIFIED LOCAL AREA NETWORK ADMINISTRATOR   83629.50   91499.00  115196.50   \n",
            "*COOK                                         39684.00   40577.00   41388.00   \n",
            "...                                                ...        ...        ...   \n",
            "TELECOMMUNICATIONS ASSOCIATE                  59035.00   69365.00   83564.00   \n",
            "TEMPORARY CLERK                                  12.26      13.39      15.34   \n",
            "TRAINER ASSISTANT                             49682.00   54974.00   56500.00   \n",
            "VOTING MACHINE TECHNICIAN                     33522.00   45000.00   45000.00   \n",
            "YOUTH DEVELOPMENT SPECIALIST                  45759.00   49318.00   53890.00   \n",
            "\n",
            "                                                      regular_hours  \\\n",
            "                                                  max         count   \n",
            "title_description                                                     \n",
            "*ATTORNEY AT LAW                             115175.0          66.0   \n",
            "*CERTIFIED APPLICATIONS DEVELOPER            101341.0           3.0   \n",
            "*CERTIFIED DATABASE ADMINISTRATOR            132403.0          12.0   \n",
            "*CERTIFIED LOCAL AREA NETWORK ADMINISTRATOR  122075.0          11.0   \n",
            "*COOK                                         44377.0          58.0   \n",
            "...                                               ...           ...   \n",
            "TELECOMMUNICATIONS ASSOCIATE                 125140.0         100.0   \n",
            "TEMPORARY CLERK                               40497.0        3790.0   \n",
            "TRAINER ASSISTANT                             70974.0         600.0   \n",
            "VOTING MACHINE TECHNICIAN                     87447.0        1102.0   \n",
            "YOUTH DEVELOPMENT SPECIALIST                  70184.0        4272.0   \n",
            "\n",
            "                                                          ... total_ot_paid  \\\n",
            "                                                    mean  ...           75%   \n",
            "title_description                                         ...                 \n",
            "*ATTORNEY AT LAW                             1596.856061  ...        0.0000   \n",
            "*CERTIFIED APPLICATIONS DEVELOPER            1811.333333  ...        0.0000   \n",
            "*CERTIFIED DATABASE ADMINISTRATOR            1820.000000  ...     5611.9525   \n",
            "*CERTIFIED LOCAL AREA NETWORK ADMINISTRATOR  1542.727273  ...     2517.5650   \n",
            "*COOK                                        1831.423448  ...     6140.4250   \n",
            "...                                                  ...  ...           ...   \n",
            "TELECOMMUNICATIONS ASSOCIATE                 1679.092500  ...     4565.1450   \n",
            "TEMPORARY CLERK                               801.290396  ...     4240.4300   \n",
            "TRAINER ASSISTANT                            1624.454183  ...    20293.7075   \n",
            "VOTING MACHINE TECHNICIAN                    1605.815381  ...    16056.1925   \n",
            "YOUTH DEVELOPMENT SPECIALIST                 1015.470398  ...     8230.9900   \n",
            "\n",
            "                                                       total_other_pay  \\\n",
            "                                                   max           count   \n",
            "title_description                                                        \n",
            "*ATTORNEY AT LAW                               8023.49            66.0   \n",
            "*CERTIFIED APPLICATIONS DEVELOPER                 0.00             3.0   \n",
            "*CERTIFIED DATABASE ADMINISTRATOR              8127.97            12.0   \n",
            "*CERTIFIED LOCAL AREA NETWORK ADMINISTRATOR    8515.96            11.0   \n",
            "*COOK                                         33875.98            58.0   \n",
            "...                                                ...             ...   \n",
            "TELECOMMUNICATIONS ASSOCIATE                  20407.79           100.0   \n",
            "TEMPORARY CLERK                               25707.09          3790.0   \n",
            "TRAINER ASSISTANT                             62341.16           600.0   \n",
            "VOTING MACHINE TECHNICIAN                     44104.16          1102.0   \n",
            "YOUTH DEVELOPMENT SPECIALIST                 116984.71          4272.0   \n",
            "\n",
            "                                                                        \\\n",
            "                                                     mean          std   \n",
            "title_description                                                        \n",
            "*ATTORNEY AT LAW                             14098.133485  4491.465119   \n",
            "*CERTIFIED APPLICATIONS DEVELOPER             4892.956667   559.140750   \n",
            "*CERTIFIED DATABASE ADMINISTRATOR             5581.174167  1205.839356   \n",
            "*CERTIFIED LOCAL AREA NETWORK ADMINISTRATOR   4530.972727  1980.212726   \n",
            "*COOK                                         1634.608103   850.539324   \n",
            "...                                                   ...          ...   \n",
            "TELECOMMUNICATIONS ASSOCIATE                  5147.508600  1759.453409   \n",
            "TEMPORARY CLERK                                 88.609071  1513.635699   \n",
            "TRAINER ASSISTANT                              668.149717   959.487947   \n",
            "VOTING MACHINE TECHNICIAN                      451.659356   696.116853   \n",
            "YOUTH DEVELOPMENT SPECIALIST                  2687.481208  3925.288280   \n",
            "\n",
            "                                                                             \\\n",
            "                                                 min         25%        50%   \n",
            "title_description                                                             \n",
            "*ATTORNEY AT LAW                              263.45  13750.3600  14660.265   \n",
            "*CERTIFIED APPLICATIONS DEVELOPER            4398.18   4589.6550   4781.130   \n",
            "*CERTIFIED DATABASE ADMINISTRATOR            4504.91   5179.1675   5515.590   \n",
            "*CERTIFIED LOCAL AREA NETWORK ADMINISTRATOR   155.28   4551.0000   4962.960   \n",
            "*COOK                                         298.99   1002.9850   1632.020   \n",
            "...                                              ...         ...        ...   \n",
            "TELECOMMUNICATIONS ASSOCIATE                    0.00   4581.0650   5261.120   \n",
            "TEMPORARY CLERK                             -1696.31      0.0000      0.000   \n",
            "TRAINER ASSISTANT                               0.00      0.0000    562.545   \n",
            "VOTING MACHINE TECHNICIAN                     -27.50      0.0000    226.490   \n",
            "YOUTH DEVELOPMENT SPECIALIST                -2105.01     84.6975    856.965   \n",
            "\n",
            "                                                                   \n",
            "                                                    75%       max  \n",
            "title_description                                                  \n",
            "*ATTORNEY AT LAW                             17376.0600  21184.44  \n",
            "*CERTIFIED APPLICATIONS DEVELOPER             5140.3450   5499.56  \n",
            "*CERTIFIED DATABASE ADMINISTRATOR             5590.0100   9143.08  \n",
            "*CERTIFIED LOCAL AREA NETWORK ADMINISTRATOR   5938.1200   6148.76  \n",
            "*COOK                                         1915.4800   3531.36  \n",
            "...                                                 ...       ...  \n",
            "TELECOMMUNICATIONS ASSOCIATE                  5611.8500   9931.35  \n",
            "TEMPORARY CLERK                                  0.0000  92151.50  \n",
            "TRAINER ASSISTANT                              935.4225   8909.64  \n",
            "VOTING MACHINE TECHNICIAN                      677.2875   9365.14  \n",
            "YOUTH DEVELOPMENT SPECIALIST                  4116.9550  33930.12  \n",
            "\n",
            "[242 rows x 48 columns]\n"
          ]
        }
      ]
    },
    {
      "cell_type": "markdown",
      "source": [
        "####**Missing value information**"
      ],
      "metadata": {
        "id": "V85lkEewWvQq"
      }
    },
    {
      "cell_type": "code",
      "metadata": {
        "id": "b0WTKtqozNn1",
        "colab": {
          "base_uri": "https://localhost:8080/"
        },
        "outputId": "bab2b255-03cd-41ae-ea66-53ffb31904a0"
      },
      "source": [
        "# Detect missing values:\n",
        "''' There are missing values in payroll_number, last_name, mid_init, and work_location_borough '''\n",
        "print(final_data.isnull().sum())"
      ],
      "execution_count": 3,
      "outputs": [
        {
          "output_type": "stream",
          "name": "stdout",
          "text": [
            "fiscal_year                       0\n",
            "payroll_number                27556\n",
            "agency_name                       0\n",
            "last_name                         0\n",
            "first_name                        0\n",
            "mid_init                      36338\n",
            "agency_start_date                 0\n",
            "work_location_borough          8266\n",
            "title_description                 0\n",
            "leave_status_as_of_june_30        0\n",
            "base_salary                       0\n",
            "pay_basis                         0\n",
            "regular_hours                     0\n",
            "regular_gross_paid                0\n",
            "ot_hours                          0\n",
            "total_ot_paid                     0\n",
            "total_other_pay                   0\n",
            "dtype: int64\n"
          ]
        }
      ]
    },
    {
      "cell_type": "code",
      "source": [
        "# Columns to check for outliers\n",
        "selected_columns = ['base_salary', 'regular_hours', 'regular_gross_paid', 'ot_hours', 'total_ot_paid', 'total_other_pay']\n",
        "\n",
        "# DataFrame to store outlier information\n",
        "outliers_summary_df = pd.DataFrame()\n",
        "\n",
        "for column in selected_columns:\n",
        "    grouped = final_data.groupby('title_description')[column]\n",
        "    Q1 = grouped.transform(lambda x: x.quantile(0.25))\n",
        "    Q3 = grouped.transform(lambda x: x.quantile(0.75))\n",
        "    IQR = Q3 - Q1\n",
        "\n",
        "    lower_bound = Q1 - 1.5 * IQR\n",
        "    upper_bound = Q3 + 1.5 * IQR\n",
        "\n",
        "    outliers = final_data.loc[(final_data[column] < lower_bound) | (final_data[column] > upper_bound), selected_columns + ['payroll_number']].copy()\n",
        "    outliers.loc[:, 'Outlier Column'] = column\n",
        "    outliers_summary_df = pd.concat([outliers_summary_df, outliers], ignore_index=True)\n",
        "\n",
        "outliers_summary_df.drop_duplicates(inplace=True)\n",
        "print(outliers_summary_df)\n"
      ],
      "metadata": {
        "colab": {
          "base_uri": "https://localhost:8080/"
        },
        "id": "Kdlf60pjhoM5",
        "outputId": "cf353202-6e7f-421e-ac4e-233783001b17"
      },
      "execution_count": 4,
      "outputs": [
        {
          "output_type": "stream",
          "name": "stdout",
          "text": [
            "       base_salary  regular_hours  regular_gross_paid  ot_hours  \\\n",
            "0           398.02        1820.00           120452.43    104.50   \n",
            "1         46540.00        1950.00            45365.19   1076.75   \n",
            "2         95116.00           0.00            -4887.82      0.00   \n",
            "3        163984.00        1820.00           164178.45      0.00   \n",
            "4        132000.00        1820.00           131638.27      0.00   \n",
            "...            ...            ...                 ...       ...   \n",
            "48218        13.65        1755.50            23796.71    401.00   \n",
            "48219        13.00        1544.00            19171.05     45.25   \n",
            "48220    125000.00        1825.00           102247.79      0.00   \n",
            "48221    165067.00        1825.00           163082.30      0.00   \n",
            "48222        13.00        1366.67            15383.44     64.17   \n",
            "\n",
            "       total_ot_paid  total_other_pay  payroll_number   Outlier Column  \n",
            "0           13831.72             5.06            67.0      base_salary  \n",
            "1           35950.12          5358.71            67.0      base_salary  \n",
            "2              19.09         14880.57            67.0      base_salary  \n",
            "3               0.00          9729.40            67.0      base_salary  \n",
            "4               0.00             0.00            67.0      base_salary  \n",
            "...              ...              ...             ...              ...  \n",
            "48218        8335.51           984.00             NaN  total_other_pay  \n",
            "48219         834.14           847.00             NaN  total_other_pay  \n",
            "48220           0.00          1000.00             NaN  total_other_pay  \n",
            "48221           0.00          1000.00             NaN  total_other_pay  \n",
            "48222        1180.04           449.00             NaN  total_other_pay  \n",
            "\n",
            "[33938 rows x 8 columns]\n"
          ]
        }
      ]
    },
    {
      "cell_type": "markdown",
      "metadata": {
        "id": "kCSLIafaEGVK"
      },
      "source": [
        "# Data Wrangling\n",
        "Create a subset of your original data and perform the following.  \n",
        "\n",
        "1. Modify multiple column names.\n",
        "\n",
        "2. Look at the structure of your data – are any variables improperly coded? Such as strings or characters? Convert to correct structure if needed.\n",
        "\n",
        "3. Fix missing and invalid values in data.\n",
        "\n",
        "4. Create new columns based on existing columns or calculations.\n",
        "\n",
        "5. Drop column(s) from your dataset.\n",
        "\n",
        "6. Drop a row(s) from your dataset.\n",
        "\n",
        "7. Sort your data based on multiple variables.\n",
        "\n",
        "8. Filter your data based on some condition.\n",
        "\n",
        "9. Convert all the string values to upper or lower cases in one column.\n",
        "\n",
        "10. Check whether numeric values are present in a given column of your dataframe.\n",
        "\n",
        "11. Group your dataset by one column, and get the mean, min, and max values by group.\n",
        "  * Groupby()\n",
        "  * agg() or .apply()\n",
        "\n",
        "12. Group your dataset by two columns and then sort the aggregated results within the groups.\n",
        "\n",
        "**You are free (and should) to add on to these questions.  Please clearly indicate in your assignment your answers to these questions.**"
      ]
    },
    {
      "cell_type": "markdown",
      "source": [
        "####**1. Modify multiple column names.**"
      ],
      "metadata": {
        "id": "DZ2HI9_J4lJg"
      }
    },
    {
      "cell_type": "code",
      "source": [
        "''' 1. Modify multiple column names.'''\n",
        "# Rename agency_name, agency_start_date, title_description to agency, start_date, title respectively.\n",
        "import pandas as pd\n",
        "\n",
        "# Renaming columns\n",
        "renaming_mapping = {\n",
        "    'agency_name': 'agency',\n",
        "    'agency_start_date': 'start_date',\n",
        "    'title_description': 'title'\n",
        "}\n",
        "\n",
        "# Rename the columns\n",
        "final_data_renamed_col = final_data.rename(columns=renaming_mapping)\n",
        "\n",
        "column_titles = final_data_renamed_col.columns.tolist()\n",
        "print(column_titles)\n",
        "\n",
        "# Print out the renamed columns\n",
        "for old_name, new_name in renaming_mapping.items():\n",
        "    print(f\"Renamed column '{old_name}' to '{new_name}'\")"
      ],
      "metadata": {
        "colab": {
          "base_uri": "https://localhost:8080/"
        },
        "id": "6n9eCcVY8Jwy",
        "outputId": "455c8ac7-f6cf-47b7-e0c6-36c65aa92722"
      },
      "execution_count": 5,
      "outputs": [
        {
          "output_type": "stream",
          "name": "stdout",
          "text": [
            "['fiscal_year', 'payroll_number', 'agency', 'last_name', 'first_name', 'mid_init', 'start_date', 'work_location_borough', 'title', 'leave_status_as_of_june_30', 'base_salary', 'pay_basis', 'regular_hours', 'regular_gross_paid', 'ot_hours', 'total_ot_paid', 'total_other_pay']\n",
            "Renamed column 'agency_name' to 'agency'\n",
            "Renamed column 'agency_start_date' to 'start_date'\n",
            "Renamed column 'title_description' to 'title'\n"
          ]
        }
      ]
    },
    {
      "cell_type": "markdown",
      "source": [
        "**2. Look at the structure of your data – are any variables improperly coded? Such as strings or characters? Convert to correct structure if needed.**\n"
      ],
      "metadata": {
        "id": "UgKTk21o4-R_"
      }
    },
    {
      "cell_type": "code",
      "metadata": {
        "id": "4VWWvvynEiQT",
        "colab": {
          "base_uri": "https://localhost:8080/"
        },
        "outputId": "b8b10a42-949e-43a0-ea93-5881a142c53f"
      },
      "source": [
        "\n",
        "# Displaying the data types of each column\n",
        "print(final_data.dtypes)"
      ],
      "execution_count": 6,
      "outputs": [
        {
          "output_type": "stream",
          "name": "stdout",
          "text": [
            "fiscal_year                     int64\n",
            "payroll_number                float64\n",
            "agency_name                    object\n",
            "last_name                      object\n",
            "first_name                     object\n",
            "mid_init                       object\n",
            "agency_start_date              object\n",
            "work_location_borough          object\n",
            "title_description              object\n",
            "leave_status_as_of_june_30     object\n",
            "base_salary                   float64\n",
            "pay_basis                      object\n",
            "regular_hours                 float64\n",
            "regular_gross_paid            float64\n",
            "ot_hours                      float64\n",
            "total_ot_paid                 float64\n",
            "total_other_pay               float64\n",
            "dtype: object\n"
          ]
        }
      ]
    },
    {
      "cell_type": "code",
      "source": [
        "'''From above, some variables are displayed as the generic 'object' data type. Below, I will change and display them as the specific data type'''\n",
        "# Convert various columns to string\n",
        "final_data['agency_name'] = final_data['agency_name'].astype('string')\n",
        "final_data['last_name'] = final_data['last_name'].astype('string')\n",
        "final_data['first_name'] = final_data['first_name'].astype('string')\n",
        "final_data['mid_init'] = final_data['mid_init'].astype('string')\n",
        "final_data['work_location_borough'] = final_data['work_location_borough'].astype('string')\n",
        "final_data['title_description'] = final_data['title_description'].astype('string')\n",
        "final_data['leave_status_as_of_june_30'] = final_data_renamed_col['leave_status_as_of_june_30'].astype('string')\n",
        "final_data['pay_basis'] = final_data['pay_basis'].astype('string')\n",
        "\n",
        "# Convert 'start_date' to datetime\n",
        "final_data['agency_start_date'] = pd.to_datetime(final_data['agency_start_date'])\n",
        "\n",
        "# Displaying the data types of each column after changes\n",
        "print(final_data.dtypes)"
      ],
      "metadata": {
        "colab": {
          "base_uri": "https://localhost:8080/"
        },
        "id": "WIZzQPN3PPM4",
        "outputId": "e4c874af-fc0e-4cc2-e9f8-a8bb4285e88a"
      },
      "execution_count": 7,
      "outputs": [
        {
          "output_type": "stream",
          "name": "stdout",
          "text": [
            "fiscal_year                            int64\n",
            "payroll_number                       float64\n",
            "agency_name                           string\n",
            "last_name                             string\n",
            "first_name                            string\n",
            "mid_init                              string\n",
            "agency_start_date             datetime64[ns]\n",
            "work_location_borough                 string\n",
            "title_description                     string\n",
            "leave_status_as_of_june_30            string\n",
            "base_salary                          float64\n",
            "pay_basis                             string\n",
            "regular_hours                        float64\n",
            "regular_gross_paid                   float64\n",
            "ot_hours                             float64\n",
            "total_ot_paid                        float64\n",
            "total_other_pay                      float64\n",
            "dtype: object\n"
          ]
        }
      ]
    },
    {
      "cell_type": "markdown",
      "source": [
        "**Fix missing and invalid values in data**"
      ],
      "metadata": {
        "id": "3j2P5djY5k7Y"
      }
    },
    {
      "cell_type": "code",
      "source": [
        "final_data['first_name'] = final_data['first_name'].replace('NaN', '')\n",
        "final_data['mid_init'] = final_data['mid_init'].replace('NaN', '')\n",
        "final_data['last_name'] = final_data['last_name'].replace('NaN', '')\n",
        "print(final_data.head())"
      ],
      "metadata": {
        "id": "xlmdXAhyYOob",
        "colab": {
          "base_uri": "https://localhost:8080/"
        },
        "outputId": "786e997e-68eb-4d2a-fa02-16f8eb802805"
      },
      "execution_count": 8,
      "outputs": [
        {
          "output_type": "stream",
          "name": "stdout",
          "text": [
            "   fiscal_year  payroll_number                agency_name    last_name  \\\n",
            "0         2023            67.0  ADMIN FOR CHILDREN'S SVCS         DIAZ   \n",
            "1         2023            67.0  ADMIN FOR CHILDREN'S SVCS     FIGUEROA   \n",
            "2         2023            67.0  ADMIN FOR CHILDREN'S SVCS  D'ACUNTO JR   \n",
            "3         2023            67.0  ADMIN FOR CHILDREN'S SVCS         DIAZ   \n",
            "4         2023            67.0  ADMIN FOR CHILDREN'S SVCS        ELLIS   \n",
            "\n",
            "  first_name mid_init agency_start_date work_location_borough  \\\n",
            "0      YANNA        N        2016-05-16                 BRONX   \n",
            "1       JUAN        E        2018-10-15             MANHATTAN   \n",
            "2       PAUL        C        2016-05-02             MANHATTAN   \n",
            "3        ANA        R        2007-06-04                QUEENS   \n",
            "4   SAMANTHA        N        2021-05-24              BROOKLYN   \n",
            "\n",
            "             title_description leave_status_as_of_june_30  base_salary  \\\n",
            "0  CHILD PROTECTIVE SPECIALIST                     ACTIVE     65921.00   \n",
            "1        COMMUNITY COORDINATOR                     ACTIVE     71028.00   \n",
            "2                      PLUMBER                     ACTIVE       398.02   \n",
            "3  CHILD PROTECTIVE SPECIALIST                     ACTIVE     65921.00   \n",
            "4  CHILD PROTECTIVE SPECIALIST                     ACTIVE     64232.00   \n",
            "\n",
            "   pay_basis  regular_hours  regular_gross_paid  ot_hours  total_ot_paid  \\\n",
            "0  per Annum         1820.0            65998.30    234.50       10361.81   \n",
            "1  per Annum         1820.0            71070.46      0.00           0.00   \n",
            "2    per Day         1820.0           120452.43    104.50       13831.72   \n",
            "3  per Annum         1820.0            65998.30     67.75        3110.50   \n",
            "4  per Annum         1673.0            57415.37     37.00        1543.34   \n",
            "\n",
            "   total_other_pay  \n",
            "0          5740.13  \n",
            "1          3040.44  \n",
            "2             5.06  \n",
            "3         17948.24  \n",
            "4          4055.33  \n"
          ]
        }
      ]
    },
    {
      "cell_type": "code",
      "source": [
        "import matplotlib.pyplot as plt\n",
        "import seaborn as sns\n",
        "import pandas as pd\n",
        "\n",
        "# Plotting\n",
        "plt.figure(figsize=(12, 6))\n",
        "# Using melt to transform the DataFrame so it's easier to use with seaborn's boxplot\n",
        "melted_data = pd.melt(final_data, value_vars=['base_salary', 'regular_gross_paid', 'ot_hours', 'total_ot_paid', 'total_other_pay'])\n",
        "sns.boxplot(x='variable', y='value', data=melted_data)\n",
        "plt.xticks(rotation=45)\n",
        "plt.title('Outlier Visualization')\n",
        "plt.ylabel('Values')\n",
        "plt.xlabel('Columns')\n",
        "plt.show()\n"
      ],
      "metadata": {
        "id": "nATPKSaNXD9B",
        "colab": {
          "base_uri": "https://localhost:8080/",
          "height": 0
        },
        "outputId": "7018f962-f838-45e5-b2aa-8e76612e3553"
      },
      "execution_count": 9,
      "outputs": [
        {
          "output_type": "display_data",
          "data": {
            "text/plain": [
              "<Figure size 1200x600 with 1 Axes>"
            ],
            "image/png": "[encoded data removed]"
          },
          "metadata": {}
        }
      ]
    },
    {
      "cell_type": "markdown",
      "source": [
        "####**4. Create new columns based on existing columns or calculations.**"
      ],
      "metadata": {
        "id": "IK272_F1J5Wk"
      }
    },
    {
      "cell_type": "code",
      "source": [
        "import numpy as np\n",
        "\n",
        "# Calculate ot_pay_rate safely, avoiding division by zero\n",
        "final_data['ot_pay_rate'] = np.where(final_data['ot_hours'] > 0, final_data['total_ot_paid'] / final_data['ot_hours'], np.nan)\n",
        "\n",
        "# Add the new column by summing the specific columns\n",
        "final_data['total_pay'] = final_data['regular_gross_paid'] + final_data['total_ot_paid'] + final_data['total_other_pay']\n",
        "\n",
        "# Now 'df' includes the new column 'total_pay' with the summed values.\n",
        "\n",
        "print(final_data)"
      ],
      "metadata": {
        "id": "SshtuQj9XR5_",
        "colab": {
          "base_uri": "https://localhost:8080/"
        },
        "outputId": "7809a985-0127-40b8-96eb-1f0cabf64f57"
      },
      "execution_count": 10,
      "outputs": [
        {
          "output_type": "stream",
          "name": "stdout",
          "text": [
            "       fiscal_year  payroll_number                     agency_name  \\\n",
            "0             2023            67.0       ADMIN FOR CHILDREN'S SVCS   \n",
            "1             2023            67.0       ADMIN FOR CHILDREN'S SVCS   \n",
            "2             2023            67.0       ADMIN FOR CHILDREN'S SVCS   \n",
            "3             2023            67.0       ADMIN FOR CHILDREN'S SVCS   \n",
            "4             2023            67.0       ADMIN FOR CHILDREN'S SVCS   \n",
            "...            ...             ...                             ...   \n",
            "99995         2023           300.0  BOARD OF ELECTION POLL WORKERS   \n",
            "99996         2023           300.0  BOARD OF ELECTION POLL WORKERS   \n",
            "99997         2023           300.0  BOARD OF ELECTION POLL WORKERS   \n",
            "99998         2023           300.0  BOARD OF ELECTION POLL WORKERS   \n",
            "99999         2023           300.0  BOARD OF ELECTION POLL WORKERS   \n",
            "\n",
            "         last_name first_name mid_init agency_start_date  \\\n",
            "0             DIAZ      YANNA        N        2016-05-16   \n",
            "1         FIGUEROA       JUAN        E        2018-10-15   \n",
            "2      D'ACUNTO JR       PAUL        C        2016-05-02   \n",
            "3             DIAZ        ANA        R        2007-06-04   \n",
            "4            ELLIS   SAMANTHA        N        2021-05-24   \n",
            "...            ...        ...      ...               ...   \n",
            "99995       KALISH      TERRY        I        2017-01-02   \n",
            "99996       WALTON      DAVID        M        2020-01-01   \n",
            "99997       WALTON       RUBY        B        2020-01-01   \n",
            "99998       WALTON       LISA        A        2017-01-02   \n",
            "99999        KABIR     FATEMA     <NA>        2022-01-01   \n",
            "\n",
            "      work_location_borough            title_description  \\\n",
            "0                     BRONX  CHILD PROTECTIVE SPECIALIST   \n",
            "1                 MANHATTAN        COMMUNITY COORDINATOR   \n",
            "2                 MANHATTAN                      PLUMBER   \n",
            "3                    QUEENS  CHILD PROTECTIVE SPECIALIST   \n",
            "4                  BROOKLYN  CHILD PROTECTIVE SPECIALIST   \n",
            "...                     ...                          ...   \n",
            "99995             MANHATTAN              ELECTION WORKER   \n",
            "99996             MANHATTAN              ELECTION WORKER   \n",
            "99997             MANHATTAN              ELECTION WORKER   \n",
            "99998             MANHATTAN              ELECTION WORKER   \n",
            "99999             MANHATTAN              ELECTION WORKER   \n",
            "\n",
            "      leave_status_as_of_june_30  base_salary  pay_basis  regular_hours  \\\n",
            "0                         ACTIVE     65921.00  per Annum         1820.0   \n",
            "1                         ACTIVE     71028.00  per Annum         1820.0   \n",
            "2                         ACTIVE       398.02    per Day         1820.0   \n",
            "3                         ACTIVE     65921.00  per Annum         1820.0   \n",
            "4                         ACTIVE     64232.00  per Annum         1673.0   \n",
            "...                          ...          ...        ...            ...   \n",
            "99995                     ACTIVE         1.00   per Hour            0.0   \n",
            "99996                     ACTIVE         1.00   per Hour            0.0   \n",
            "99997                     ACTIVE         1.00   per Hour            0.0   \n",
            "99998                     ACTIVE         1.00   per Hour            0.0   \n",
            "99999                     ACTIVE         1.00   per Hour            0.0   \n",
            "\n",
            "       regular_gross_paid  ot_hours  total_ot_paid  total_other_pay  \\\n",
            "0                65998.30    234.50       10361.81          5740.13   \n",
            "1                71070.46      0.00           0.00          3040.44   \n",
            "2               120452.43    104.50       13831.72             5.06   \n",
            "3                65998.30     67.75        3110.50         17948.24   \n",
            "4                57415.37     37.00        1543.34          4055.33   \n",
            "...                   ...       ...            ...              ...   \n",
            "99995              375.00      0.00           0.00             0.00   \n",
            "99996              350.00      0.00           0.00             0.00   \n",
            "99997              450.01      0.00           0.00             0.00   \n",
            "99998             5303.00      0.00           0.00             0.00   \n",
            "99999              350.00      0.00           0.00             0.00   \n",
            "\n",
            "       ot_pay_rate  total_pay  \n",
            "0        44.186823   82100.24  \n",
            "1              NaN   74110.90  \n",
            "2       132.360957  134289.21  \n",
            "3        45.911439   87057.04  \n",
            "4        41.711892   63014.04  \n",
            "...            ...        ...  \n",
            "99995          NaN     375.00  \n",
            "99996          NaN     350.00  \n",
            "99997          NaN     450.01  \n",
            "99998          NaN    5303.00  \n",
            "99999          NaN     350.00  \n",
            "\n",
            "[100000 rows x 19 columns]\n"
          ]
        }
      ]
    },
    {
      "cell_type": "markdown",
      "source": [
        "####**5. Drop column(s) from your dataset.**"
      ],
      "metadata": {
        "id": "cNd2vE1igxWx"
      }
    },
    {
      "cell_type": "code",
      "source": [
        "# Drop the column 'work_location_borough'\n",
        "\n",
        "# Drop 'ot_hours' column\n",
        "final_data = final_data.drop('work_location_borough', axis=1)\n",
        "\n",
        "print(final_data)"
      ],
      "metadata": {
        "colab": {
          "base_uri": "https://localhost:8080/"
        },
        "id": "uKPeLEy7hYs0",
        "outputId": "e96cc77b-5917-4522-e108-149d3c6f9047"
      },
      "execution_count": 11,
      "outputs": [
        {
          "output_type": "stream",
          "name": "stdout",
          "text": [
            "       fiscal_year  payroll_number                     agency_name  \\\n",
            "0             2023            67.0       ADMIN FOR CHILDREN'S SVCS   \n",
            "1             2023            67.0       ADMIN FOR CHILDREN'S SVCS   \n",
            "2             2023            67.0       ADMIN FOR CHILDREN'S SVCS   \n",
            "3             2023            67.0       ADMIN FOR CHILDREN'S SVCS   \n",
            "4             2023            67.0       ADMIN FOR CHILDREN'S SVCS   \n",
            "...            ...             ...                             ...   \n",
            "99995         2023           300.0  BOARD OF ELECTION POLL WORKERS   \n",
            "99996         2023           300.0  BOARD OF ELECTION POLL WORKERS   \n",
            "99997         2023           300.0  BOARD OF ELECTION POLL WORKERS   \n",
            "99998         2023           300.0  BOARD OF ELECTION POLL WORKERS   \n",
            "99999         2023           300.0  BOARD OF ELECTION POLL WORKERS   \n",
            "\n",
            "         last_name first_name mid_init agency_start_date  \\\n",
            "0             DIAZ      YANNA        N        2016-05-16   \n",
            "1         FIGUEROA       JUAN        E        2018-10-15   \n",
            "2      D'ACUNTO JR       PAUL        C        2016-05-02   \n",
            "3             DIAZ        ANA        R        2007-06-04   \n",
            "4            ELLIS   SAMANTHA        N        2021-05-24   \n",
            "...            ...        ...      ...               ...   \n",
            "99995       KALISH      TERRY        I        2017-01-02   \n",
            "99996       WALTON      DAVID        M        2020-01-01   \n",
            "99997       WALTON       RUBY        B        2020-01-01   \n",
            "99998       WALTON       LISA        A        2017-01-02   \n",
            "99999        KABIR     FATEMA     <NA>        2022-01-01   \n",
            "\n",
            "                 title_description leave_status_as_of_june_30  base_salary  \\\n",
            "0      CHILD PROTECTIVE SPECIALIST                     ACTIVE     65921.00   \n",
            "1            COMMUNITY COORDINATOR                     ACTIVE     71028.00   \n",
            "2                          PLUMBER                     ACTIVE       398.02   \n",
            "3      CHILD PROTECTIVE SPECIALIST                     ACTIVE     65921.00   \n",
            "4      CHILD PROTECTIVE SPECIALIST                     ACTIVE     64232.00   \n",
            "...                            ...                        ...          ...   \n",
            "99995              ELECTION WORKER                     ACTIVE         1.00   \n",
            "99996              ELECTION WORKER                     ACTIVE         1.00   \n",
            "99997              ELECTION WORKER                     ACTIVE         1.00   \n",
            "99998              ELECTION WORKER                     ACTIVE         1.00   \n",
            "99999              ELECTION WORKER                     ACTIVE         1.00   \n",
            "\n",
            "       pay_basis  regular_hours  regular_gross_paid  ot_hours  total_ot_paid  \\\n",
            "0      per Annum         1820.0            65998.30    234.50       10361.81   \n",
            "1      per Annum         1820.0            71070.46      0.00           0.00   \n",
            "2        per Day         1820.0           120452.43    104.50       13831.72   \n",
            "3      per Annum         1820.0            65998.30     67.75        3110.50   \n",
            "4      per Annum         1673.0            57415.37     37.00        1543.34   \n",
            "...          ...            ...                 ...       ...            ...   \n",
            "99995   per Hour            0.0              375.00      0.00           0.00   \n",
            "99996   per Hour            0.0              350.00      0.00           0.00   \n",
            "99997   per Hour            0.0              450.01      0.00           0.00   \n",
            "99998   per Hour            0.0             5303.00      0.00           0.00   \n",
            "99999   per Hour            0.0              350.00      0.00           0.00   \n",
            "\n",
            "       total_other_pay  ot_pay_rate  total_pay  \n",
            "0              5740.13    44.186823   82100.24  \n",
            "1              3040.44          NaN   74110.90  \n",
            "2                 5.06   132.360957  134289.21  \n",
            "3             17948.24    45.911439   87057.04  \n",
            "4              4055.33    41.711892   63014.04  \n",
            "...                ...          ...        ...  \n",
            "99995             0.00          NaN     375.00  \n",
            "99996             0.00          NaN     350.00  \n",
            "99997             0.00          NaN     450.01  \n",
            "99998             0.00          NaN    5303.00  \n",
            "99999             0.00          NaN     350.00  \n",
            "\n",
            "[100000 rows x 18 columns]\n"
          ]
        }
      ]
    },
    {
      "cell_type": "markdown",
      "source": [
        "####**6. Drop a row(s) from your dataset.**\n",
        "\n",
        "\n"
      ],
      "metadata": {
        "id": "KZcF5LKGjBva"
      }
    },
    {
      "cell_type": "code",
      "source": [
        "# Drop rows where fiscal_year is 2015 or 2016\n",
        "final_data = final_data[~final_data['fiscal_year'].isin([2015, 2016])]\n",
        "\n",
        "print(final_data)"
      ],
      "metadata": {
        "colab": {
          "base_uri": "https://localhost:8080/"
        },
        "id": "xT0Uq5z9i4_k",
        "outputId": "d077814a-92a0-48ad-ee7e-3af27f3b9f35"
      },
      "execution_count": 12,
      "outputs": [
        {
          "output_type": "stream",
          "name": "stdout",
          "text": [
            "       fiscal_year  payroll_number                     agency_name  \\\n",
            "0             2023            67.0       ADMIN FOR CHILDREN'S SVCS   \n",
            "1             2023            67.0       ADMIN FOR CHILDREN'S SVCS   \n",
            "2             2023            67.0       ADMIN FOR CHILDREN'S SVCS   \n",
            "3             2023            67.0       ADMIN FOR CHILDREN'S SVCS   \n",
            "4             2023            67.0       ADMIN FOR CHILDREN'S SVCS   \n",
            "...            ...             ...                             ...   \n",
            "99995         2023           300.0  BOARD OF ELECTION POLL WORKERS   \n",
            "99996         2023           300.0  BOARD OF ELECTION POLL WORKERS   \n",
            "99997         2023           300.0  BOARD OF ELECTION POLL WORKERS   \n",
            "99998         2023           300.0  BOARD OF ELECTION POLL WORKERS   \n",
            "99999         2023           300.0  BOARD OF ELECTION POLL WORKERS   \n",
            "\n",
            "         last_name first_name mid_init agency_start_date  \\\n",
            "0             DIAZ      YANNA        N        2016-05-16   \n",
            "1         FIGUEROA       JUAN        E        2018-10-15   \n",
            "2      D'ACUNTO JR       PAUL        C        2016-05-02   \n",
            "3             DIAZ        ANA        R        2007-06-04   \n",
            "4            ELLIS   SAMANTHA        N        2021-05-24   \n",
            "...            ...        ...      ...               ...   \n",
            "99995       KALISH      TERRY        I        2017-01-02   \n",
            "99996       WALTON      DAVID        M        2020-01-01   \n",
            "99997       WALTON       RUBY        B        2020-01-01   \n",
            "99998       WALTON       LISA        A        2017-01-02   \n",
            "99999        KABIR     FATEMA     <NA>        2022-01-01   \n",
            "\n",
            "                 title_description leave_status_as_of_june_30  base_salary  \\\n",
            "0      CHILD PROTECTIVE SPECIALIST                     ACTIVE     65921.00   \n",
            "1            COMMUNITY COORDINATOR                     ACTIVE     71028.00   \n",
            "2                          PLUMBER                     ACTIVE       398.02   \n",
            "3      CHILD PROTECTIVE SPECIALIST                     ACTIVE     65921.00   \n",
            "4      CHILD PROTECTIVE SPECIALIST                     ACTIVE     64232.00   \n",
            "...                            ...                        ...          ...   \n",
            "99995              ELECTION WORKER                     ACTIVE         1.00   \n",
            "99996              ELECTION WORKER                     ACTIVE         1.00   \n",
            "99997              ELECTION WORKER                     ACTIVE         1.00   \n",
            "99998              ELECTION WORKER                     ACTIVE         1.00   \n",
            "99999              ELECTION WORKER                     ACTIVE         1.00   \n",
            "\n",
            "       pay_basis  regular_hours  regular_gross_paid  ot_hours  total_ot_paid  \\\n",
            "0      per Annum         1820.0            65998.30    234.50       10361.81   \n",
            "1      per Annum         1820.0            71070.46      0.00           0.00   \n",
            "2        per Day         1820.0           120452.43    104.50       13831.72   \n",
            "3      per Annum         1820.0            65998.30     67.75        3110.50   \n",
            "4      per Annum         1673.0            57415.37     37.00        1543.34   \n",
            "...          ...            ...                 ...       ...            ...   \n",
            "99995   per Hour            0.0              375.00      0.00           0.00   \n",
            "99996   per Hour            0.0              350.00      0.00           0.00   \n",
            "99997   per Hour            0.0              450.01      0.00           0.00   \n",
            "99998   per Hour            0.0             5303.00      0.00           0.00   \n",
            "99999   per Hour            0.0              350.00      0.00           0.00   \n",
            "\n",
            "       total_other_pay  ot_pay_rate  total_pay  \n",
            "0              5740.13    44.186823   82100.24  \n",
            "1              3040.44          NaN   74110.90  \n",
            "2                 5.06   132.360957  134289.21  \n",
            "3             17948.24    45.911439   87057.04  \n",
            "4              4055.33    41.711892   63014.04  \n",
            "...                ...          ...        ...  \n",
            "99995             0.00          NaN     375.00  \n",
            "99996             0.00          NaN     350.00  \n",
            "99997             0.00          NaN     450.01  \n",
            "99998             0.00          NaN    5303.00  \n",
            "99999             0.00          NaN     350.00  \n",
            "\n",
            "[81426 rows x 18 columns]\n"
          ]
        }
      ]
    },
    {
      "cell_type": "markdown",
      "source": [
        "####**7. Sort your data based on multiple variables.**"
      ],
      "metadata": {
        "id": "uNMfZzgRjh6J"
      }
    },
    {
      "cell_type": "code",
      "source": [
        "# Sort the DataFrame first by 'title_description' in ascending order, then by 'base_salary' in descending order\n",
        "final_data_sorted = final_data.sort_values(by=['title_description', 'base_salary'], ascending=[True, False])\n",
        "\n",
        "print(final_data_sorted)"
      ],
      "metadata": {
        "colab": {
          "base_uri": "https://localhost:8080/"
        },
        "id": "lw6DRBHPj3tp",
        "outputId": "7076f0c8-1695-4904-c30d-0d661d1dc89d"
      },
      "execution_count": 13,
      "outputs": [
        {
          "output_type": "stream",
          "name": "stdout",
          "text": [
            "       fiscal_year  payroll_number                agency_name last_name  \\\n",
            "5769          2023            67.0  ADMIN FOR CHILDREN'S SVCS    GUARDO   \n",
            "21008         2021            67.0  ADMIN FOR CHILDREN'S SVCS    GUARDO   \n",
            "6635          2023            67.0  ADMIN FOR CHILDREN'S SVCS   SERFATY   \n",
            "4490          2023            67.0  ADMIN FOR CHILDREN'S SVCS   LEITNER   \n",
            "9771          2022            67.0  ADMIN FOR CHILDREN'S SVCS   SERFATY   \n",
            "...            ...             ...                        ...       ...   \n",
            "40154         2019            67.0  ADMIN FOR CHILDREN'S SVCS    ADANRI   \n",
            "36170         2019            67.0  ADMIN FOR CHILDREN'S SVCS    MATHEW   \n",
            "36216         2019            67.0  ADMIN FOR CHILDREN'S SVCS     BROWN   \n",
            "33179         2020            67.0  ADMIN FOR CHILDREN'S SVCS     PAYNE   \n",
            "38161         2019            67.0  ADMIN FOR CHILDREN'S SVCS     PAYNE   \n",
            "\n",
            "        first_name mid_init agency_start_date             title_description  \\\n",
            "5769   CHRISTOPHER        S        1996-06-23              *ATTORNEY AT LAW   \n",
            "21008  CHRISTOPHER        S        1996-06-23              *ATTORNEY AT LAW   \n",
            "6635           EVE        Z        1996-06-23              *ATTORNEY AT LAW   \n",
            "4490        LESLIE        S        1996-06-23              *ATTORNEY AT LAW   \n",
            "9771           EVE        Z        1996-06-23              *ATTORNEY AT LAW   \n",
            "...            ...      ...               ...                           ...   \n",
            "40154       DONALD        A        2018-08-06  YOUTH DEVELOPMENT SPECIALIST   \n",
            "36170      CHARLEY        K        2017-09-05  YOUTH DEVELOPMENT SPECIALIST   \n",
            "36216     DANIELLE        C        2017-07-10  YOUTH DEVELOPMENT SPECIALIST   \n",
            "33179        TAREN        P        2017-10-23  YOUTH DEVELOPMENT SPECIALIST   \n",
            "38161        TAREN        P        2017-10-23  YOUTH DEVELOPMENT SPECIALIST   \n",
            "\n",
            "      leave_status_as_of_june_30  base_salary  pay_basis  regular_hours  \\\n",
            "5769                      CEASED     115175.0  per Annum         217.00   \n",
            "21008                     ACTIVE     115175.0  per Annum        1820.00   \n",
            "6635                      ACTIVE     114771.0  per Annum        1820.00   \n",
            "4490                      ACTIVE     105810.0  per Annum        1820.00   \n",
            "9771                      ACTIVE     104469.0  per Annum        1820.00   \n",
            "...                          ...          ...        ...            ...   \n",
            "40154                     ACTIVE      44426.0  per Annum        1606.08   \n",
            "36170                     CEASED      43448.0  per Annum         274.00   \n",
            "36216                     CEASED      43448.0  per Annum         377.75   \n",
            "33179                     CEASED      39486.0  per Annum         140.00   \n",
            "38161                     ACTIVE      39486.0  per Annum        1825.00   \n",
            "\n",
            "       regular_gross_paid  ot_hours  total_ot_paid  total_other_pay  \\\n",
            "5769             13694.74      0.00           0.00          2432.39   \n",
            "21008           114850.80      0.00           0.00         17751.06   \n",
            "6635            106356.10    104.00        7163.76         17459.86   \n",
            "4490             97267.77      0.00           0.00         17752.36   \n",
            "9771            103143.37      0.00           0.00         17707.36   \n",
            "...                   ...       ...            ...              ...   \n",
            "40154            37985.20    251.75        8389.33          1389.15   \n",
            "36170             8094.01    114.00        4447.47             8.63   \n",
            "36216            11369.26     71.25        2290.34            16.57   \n",
            "33179             3023.15      0.00           0.00          1223.26   \n",
            "38161            39153.99      0.00           0.00           268.00   \n",
            "\n",
            "       ot_pay_rate  total_pay  \n",
            "5769           NaN   16127.13  \n",
            "21008          NaN  132601.86  \n",
            "6635     68.882308  130979.72  \n",
            "4490           NaN  115020.13  \n",
            "9771           NaN  120850.73  \n",
            "...            ...        ...  \n",
            "40154    33.324052   47763.68  \n",
            "36170    39.012895   12550.11  \n",
            "36216    32.145123   13676.17  \n",
            "33179          NaN    4246.41  \n",
            "38161          NaN   39421.99  \n",
            "\n",
            "[81426 rows x 18 columns]\n"
          ]
        }
      ]
    },
    {
      "cell_type": "markdown",
      "source": [
        "####**8. Filter your data based on some condition.**"
      ],
      "metadata": {
        "id": "p8YuL6Phl6jJ"
      }
    },
    {
      "cell_type": "code",
      "source": [
        "# Filter the DataFrame where 'ot_hours' is greater than 0\n",
        "filtered_data = final_data[final_data['ot_hours'] > 0]\n",
        "\n",
        "print(filtered_data)"
      ],
      "metadata": {
        "colab": {
          "base_uri": "https://localhost:8080/"
        },
        "id": "ZBhu-pMclzIu",
        "outputId": "a383c1a5-a148-4e3a-ab32-266b949f67ec"
      },
      "execution_count": 14,
      "outputs": [
        {
          "output_type": "stream",
          "name": "stdout",
          "text": [
            "       fiscal_year  payroll_number                agency_name       last_name  \\\n",
            "0             2023            67.0  ADMIN FOR CHILDREN'S SVCS            DIAZ   \n",
            "2             2023            67.0  ADMIN FOR CHILDREN'S SVCS     D'ACUNTO JR   \n",
            "3             2023            67.0  ADMIN FOR CHILDREN'S SVCS            DIAZ   \n",
            "4             2023            67.0  ADMIN FOR CHILDREN'S SVCS           ELLIS   \n",
            "5             2023            67.0  ADMIN FOR CHILDREN'S SVCS        FIGUEROA   \n",
            "...            ...             ...                        ...             ...   \n",
            "96270         2014             3.0          BOARD OF ELECTION           MURAD   \n",
            "96271         2014             3.0          BOARD OF ELECTION           SCOTT   \n",
            "96272         2014             3.0          BOARD OF ELECTION        LIPAVSKY   \n",
            "96274         2014             3.0          BOARD OF ELECTION           EVANS   \n",
            "96275         2014             3.0          BOARD OF ELECTION  AGUILH-KETCHAM   \n",
            "\n",
            "      first_name mid_init agency_start_date            title_description  \\\n",
            "0          YANNA        N        2016-05-16  CHILD PROTECTIVE SPECIALIST   \n",
            "2           PAUL        C        2016-05-02                      PLUMBER   \n",
            "3            ANA        R        2007-06-04  CHILD PROTECTIVE SPECIALIST   \n",
            "4       SAMANTHA        N        2021-05-24  CHILD PROTECTIVE SPECIALIST   \n",
            "5       YESSENIA     <NA>        2009-08-10  CHILD PROTECTIVE SPECIALIST   \n",
            "...          ...      ...               ...                          ...   \n",
            "96270      RAHME     <NA>        2012-10-21           CLERK TO THE BOARD   \n",
            "96271     ROBERT     <NA>        2012-10-21     ADMINISTRATIVE ASSISTANT   \n",
            "96272     ANDREY     <NA>        2012-10-15    VOTING MACHINE TECHNICIAN   \n",
            "96274       TINA        M        2012-10-14              TEMPORARY CLERK   \n",
            "96275      DEVON        T        2012-10-14              TEMPORARY CLERK   \n",
            "\n",
            "      leave_status_as_of_june_30  base_salary  pay_basis  regular_hours  \\\n",
            "0                         ACTIVE     65921.00  per Annum        1820.00   \n",
            "2                         ACTIVE       398.02    per Day        1820.00   \n",
            "3                         ACTIVE     65921.00  per Annum        1820.00   \n",
            "4                         ACTIVE     64232.00  per Annum        1673.00   \n",
            "5                         CEASED     65921.00  per Annum        1820.00   \n",
            "...                          ...          ...        ...            ...   \n",
            "96270                     ACTIVE     27927.00  per Annum        1820.50   \n",
            "96271                     ACTIVE     42659.00  per Annum        1911.00   \n",
            "96272                     ACTIVE     28655.00  per Annum        1893.75   \n",
            "96274                     CEASED        11.90   per Hour         547.00   \n",
            "96275                     CEASED        11.90   per Hour         976.25   \n",
            "\n",
            "       regular_gross_paid  ot_hours  total_ot_paid  total_other_pay  \\\n",
            "0                65998.30    234.50       10361.81          5740.13   \n",
            "2               120452.43    104.50       13831.72             5.06   \n",
            "3                65998.30     67.75        3110.50         17948.24   \n",
            "4                57415.37     37.00        1543.34          4055.33   \n",
            "5                65998.30    188.25        9496.33         19523.71   \n",
            "...                   ...       ...            ...              ...   \n",
            "96270            25569.96    143.00        2184.81             0.00   \n",
            "96271            22681.54    544.50        8554.62             0.00   \n",
            "96272            26741.34    255.00        4551.78             0.00   \n",
            "96274             7378.12     37.75         673.85             0.00   \n",
            "96275            12926.40    317.25        5716.46             0.00   \n",
            "\n",
            "       ot_pay_rate  total_pay  \n",
            "0        44.186823   82100.24  \n",
            "2       132.360957  134289.21  \n",
            "3        45.911439   87057.04  \n",
            "4        41.711892   63014.04  \n",
            "5        50.445312   95018.34  \n",
            "...            ...        ...  \n",
            "96270    15.278392   27754.77  \n",
            "96271    15.710964   31236.16  \n",
            "96272    17.850118   31293.12  \n",
            "96274    17.850331    8051.97  \n",
            "96275    18.018786   18642.86  \n",
            "\n",
            "[44002 rows x 18 columns]\n"
          ]
        }
      ]
    },
    {
      "cell_type": "markdown",
      "source": [
        "####**9. Convert all the string values to upper or lower cases in one column.**"
      ],
      "metadata": {
        "id": "4tf8Zg5ZmyJV"
      }
    },
    {
      "cell_type": "code",
      "source": [
        "# Convert 'title_description' to lower case\n",
        "final_data['title_description'] = final_data['title_description'].str.lower()\n",
        "\n",
        "print(final_data)"
      ],
      "metadata": {
        "colab": {
          "base_uri": "https://localhost:8080/"
        },
        "id": "aFmtDHtvm19T",
        "outputId": "6a289ead-9f54-4cea-fab8-66f01c137c5f"
      },
      "execution_count": 15,
      "outputs": [
        {
          "output_type": "stream",
          "name": "stdout",
          "text": [
            "       fiscal_year  payroll_number                     agency_name  \\\n",
            "0             2023            67.0       ADMIN FOR CHILDREN'S SVCS   \n",
            "1             2023            67.0       ADMIN FOR CHILDREN'S SVCS   \n",
            "2             2023            67.0       ADMIN FOR CHILDREN'S SVCS   \n",
            "3             2023            67.0       ADMIN FOR CHILDREN'S SVCS   \n",
            "4             2023            67.0       ADMIN FOR CHILDREN'S SVCS   \n",
            "...            ...             ...                             ...   \n",
            "99995         2023           300.0  BOARD OF ELECTION POLL WORKERS   \n",
            "99996         2023           300.0  BOARD OF ELECTION POLL WORKERS   \n",
            "99997         2023           300.0  BOARD OF ELECTION POLL WORKERS   \n",
            "99998         2023           300.0  BOARD OF ELECTION POLL WORKERS   \n",
            "99999         2023           300.0  BOARD OF ELECTION POLL WORKERS   \n",
            "\n",
            "         last_name first_name mid_init agency_start_date  \\\n",
            "0             DIAZ      YANNA        N        2016-05-16   \n",
            "1         FIGUEROA       JUAN        E        2018-10-15   \n",
            "2      D'ACUNTO JR       PAUL        C        2016-05-02   \n",
            "3             DIAZ        ANA        R        2007-06-04   \n",
            "4            ELLIS   SAMANTHA        N        2021-05-24   \n",
            "...            ...        ...      ...               ...   \n",
            "99995       KALISH      TERRY        I        2017-01-02   \n",
            "99996       WALTON      DAVID        M        2020-01-01   \n",
            "99997       WALTON       RUBY        B        2020-01-01   \n",
            "99998       WALTON       LISA        A        2017-01-02   \n",
            "99999        KABIR     FATEMA     <NA>        2022-01-01   \n",
            "\n",
            "                 title_description leave_status_as_of_june_30  base_salary  \\\n",
            "0      child protective specialist                     ACTIVE     65921.00   \n",
            "1            community coordinator                     ACTIVE     71028.00   \n",
            "2                          plumber                     ACTIVE       398.02   \n",
            "3      child protective specialist                     ACTIVE     65921.00   \n",
            "4      child protective specialist                     ACTIVE     64232.00   \n",
            "...                            ...                        ...          ...   \n",
            "99995              election worker                     ACTIVE         1.00   \n",
            "99996              election worker                     ACTIVE         1.00   \n",
            "99997              election worker                     ACTIVE         1.00   \n",
            "99998              election worker                     ACTIVE         1.00   \n",
            "99999              election worker                     ACTIVE         1.00   \n",
            "\n",
            "       pay_basis  regular_hours  regular_gross_paid  ot_hours  total_ot_paid  \\\n",
            "0      per Annum         1820.0            65998.30    234.50       10361.81   \n",
            "1      per Annum         1820.0            71070.46      0.00           0.00   \n",
            "2        per Day         1820.0           120452.43    104.50       13831.72   \n",
            "3      per Annum         1820.0            65998.30     67.75        3110.50   \n",
            "4      per Annum         1673.0            57415.37     37.00        1543.34   \n",
            "...          ...            ...                 ...       ...            ...   \n",
            "99995   per Hour            0.0              375.00      0.00           0.00   \n",
            "99996   per Hour            0.0              350.00      0.00           0.00   \n",
            "99997   per Hour            0.0              450.01      0.00           0.00   \n",
            "99998   per Hour            0.0             5303.00      0.00           0.00   \n",
            "99999   per Hour            0.0              350.00      0.00           0.00   \n",
            "\n",
            "       total_other_pay  ot_pay_rate  total_pay  \n",
            "0              5740.13    44.186823   82100.24  \n",
            "1              3040.44          NaN   74110.90  \n",
            "2                 5.06   132.360957  134289.21  \n",
            "3             17948.24    45.911439   87057.04  \n",
            "4              4055.33    41.711892   63014.04  \n",
            "...                ...          ...        ...  \n",
            "99995             0.00          NaN     375.00  \n",
            "99996             0.00          NaN     350.00  \n",
            "99997             0.00          NaN     450.01  \n",
            "99998             0.00          NaN    5303.00  \n",
            "99999             0.00          NaN     350.00  \n",
            "\n",
            "[81426 rows x 18 columns]\n"
          ]
        }
      ]
    },
    {
      "cell_type": "markdown",
      "source": [
        "####**10. Check whether numeric values are present in a given column of your dataframe.**"
      ],
      "metadata": {
        "id": "vgp2Xf91nXI5"
      }
    },
    {
      "cell_type": "code",
      "source": [
        "# Function to check for numeric values\n",
        "def is_numeric(value):\n",
        "    try:\n",
        "        pd.to_numeric(value)\n",
        "        return True\n",
        "    except ValueError:\n",
        "        return False\n",
        "\n",
        "# Apply the function to the 'agency_start_date' column\n",
        "final_data['is_numeric_in_leave_status'] = final_data['leave_status_as_of_june_30'].apply(is_numeric)\n",
        "\n",
        "print(final_data)"
      ],
      "metadata": {
        "colab": {
          "base_uri": "https://localhost:8080/"
        },
        "id": "f-Aw9o2Qn-VE",
        "outputId": "0e7418af-5b5f-4b6a-c624-9aab38267e75"
      },
      "execution_count": 16,
      "outputs": [
        {
          "output_type": "stream",
          "name": "stdout",
          "text": [
            "       fiscal_year  payroll_number                     agency_name  \\\n",
            "0             2023            67.0       ADMIN FOR CHILDREN'S SVCS   \n",
            "1             2023            67.0       ADMIN FOR CHILDREN'S SVCS   \n",
            "2             2023            67.0       ADMIN FOR CHILDREN'S SVCS   \n",
            "3             2023            67.0       ADMIN FOR CHILDREN'S SVCS   \n",
            "4             2023            67.0       ADMIN FOR CHILDREN'S SVCS   \n",
            "...            ...             ...                             ...   \n",
            "99995         2023           300.0  BOARD OF ELECTION POLL WORKERS   \n",
            "99996         2023           300.0  BOARD OF ELECTION POLL WORKERS   \n",
            "99997         2023           300.0  BOARD OF ELECTION POLL WORKERS   \n",
            "99998         2023           300.0  BOARD OF ELECTION POLL WORKERS   \n",
            "99999         2023           300.0  BOARD OF ELECTION POLL WORKERS   \n",
            "\n",
            "         last_name first_name mid_init agency_start_date  \\\n",
            "0             DIAZ      YANNA        N        2016-05-16   \n",
            "1         FIGUEROA       JUAN        E        2018-10-15   \n",
            "2      D'ACUNTO JR       PAUL        C        2016-05-02   \n",
            "3             DIAZ        ANA        R        2007-06-04   \n",
            "4            ELLIS   SAMANTHA        N        2021-05-24   \n",
            "...            ...        ...      ...               ...   \n",
            "99995       KALISH      TERRY        I        2017-01-02   \n",
            "99996       WALTON      DAVID        M        2020-01-01   \n",
            "99997       WALTON       RUBY        B        2020-01-01   \n",
            "99998       WALTON       LISA        A        2017-01-02   \n",
            "99999        KABIR     FATEMA     <NA>        2022-01-01   \n",
            "\n",
            "                 title_description leave_status_as_of_june_30  base_salary  \\\n",
            "0      child protective specialist                     ACTIVE     65921.00   \n",
            "1            community coordinator                     ACTIVE     71028.00   \n",
            "2                          plumber                     ACTIVE       398.02   \n",
            "3      child protective specialist                     ACTIVE     65921.00   \n",
            "4      child protective specialist                     ACTIVE     64232.00   \n",
            "...                            ...                        ...          ...   \n",
            "99995              election worker                     ACTIVE         1.00   \n",
            "99996              election worker                     ACTIVE         1.00   \n",
            "99997              election worker                     ACTIVE         1.00   \n",
            "99998              election worker                     ACTIVE         1.00   \n",
            "99999              election worker                     ACTIVE         1.00   \n",
            "\n",
            "       pay_basis  regular_hours  regular_gross_paid  ot_hours  total_ot_paid  \\\n",
            "0      per Annum         1820.0            65998.30    234.50       10361.81   \n",
            "1      per Annum         1820.0            71070.46      0.00           0.00   \n",
            "2        per Day         1820.0           120452.43    104.50       13831.72   \n",
            "3      per Annum         1820.0            65998.30     67.75        3110.50   \n",
            "4      per Annum         1673.0            57415.37     37.00        1543.34   \n",
            "...          ...            ...                 ...       ...            ...   \n",
            "99995   per Hour            0.0              375.00      0.00           0.00   \n",
            "99996   per Hour            0.0              350.00      0.00           0.00   \n",
            "99997   per Hour            0.0              450.01      0.00           0.00   \n",
            "99998   per Hour            0.0             5303.00      0.00           0.00   \n",
            "99999   per Hour            0.0              350.00      0.00           0.00   \n",
            "\n",
            "       total_other_pay  ot_pay_rate  total_pay  is_numeric_in_leave_status  \n",
            "0              5740.13    44.186823   82100.24                       False  \n",
            "1              3040.44          NaN   74110.90                       False  \n",
            "2                 5.06   132.360957  134289.21                       False  \n",
            "3             17948.24    45.911439   87057.04                       False  \n",
            "4              4055.33    41.711892   63014.04                       False  \n",
            "...                ...          ...        ...                         ...  \n",
            "99995             0.00          NaN     375.00                       False  \n",
            "99996             0.00          NaN     350.00                       False  \n",
            "99997             0.00          NaN     450.01                       False  \n",
            "99998             0.00          NaN    5303.00                       False  \n",
            "99999             0.00          NaN     350.00                       False  \n",
            "\n",
            "[81426 rows x 19 columns]\n"
          ]
        }
      ]
    },
    {
      "cell_type": "markdown",
      "source": [
        "####**11. Group your dataset by one column, and get the mean, min, and max values by group.**\n",
        "\n",
        " - **Groupby()**\n",
        " - **agg() or .apply()**"
      ],
      "metadata": {
        "id": "X3sVVa7cv5CT"
      }
    },
    {
      "cell_type": "code",
      "source": [
        "# Grouping by 'title_description' and aggregating 'total_pay'\n",
        "grouped_final_data = final_data.groupby('title_description')['total_pay'].agg(['mean', 'min', 'max'])\n",
        "\n",
        "# Resetting index to turn 'title_description' back into a column\n",
        "grouped_final_data = grouped_final_data.reset_index()\n",
        "\n",
        "# Display the new DataFrame with aggregated values\n",
        "print(grouped_final_data)"
      ],
      "metadata": {
        "colab": {
          "base_uri": "https://localhost:8080/"
        },
        "id": "8-ksnNIcvXxQ",
        "outputId": "d4738c7e-cb60-419e-d303-6cee053f9d1b"
      },
      "execution_count": 17,
      "outputs": [
        {
          "output_type": "stream",
          "name": "stdout",
          "text": [
            "                               title_description           mean       min  \\\n",
            "0                               *attorney at law   90604.587576   1884.19   \n",
            "1              *certified applications developer  101459.845000  93873.49   \n",
            "2              *certified database administrator  118809.927778  93753.65   \n",
            "3    *certified local area network administrator   90310.562727    159.45   \n",
            "4                                          *cook   41351.613966   3361.15   \n",
            "..                                           ...            ...       ...   \n",
            "232                 telecommunications associate   76948.133590   1359.90   \n",
            "233                              temporary clerk   17558.542140  -1132.56   \n",
            "234                            trainer assistant   65493.538082     40.02   \n",
            "235                    voting machine technician   50715.062313   -839.59   \n",
            "236                 youth development specialist   38111.296093  -5824.52   \n",
            "\n",
            "           max  \n",
            "0    132601.86  \n",
            "1    109046.20  \n",
            "2    137180.80  \n",
            "3    130993.10  \n",
            "4     72532.68  \n",
            "..         ...  \n",
            "232  131272.41  \n",
            "233   99726.25  \n",
            "234  117858.99  \n",
            "235  119990.38  \n",
            "236  208672.31  \n",
            "\n",
            "[237 rows x 4 columns]\n"
          ]
        }
      ]
    },
    {
      "cell_type": "markdown",
      "source": [
        "####**12 Group your dataset by two columns and then sort the aggregated results within the groups.**"
      ],
      "metadata": {
        "id": "LBS_TGL0zOSb"
      }
    },
    {
      "cell_type": "code",
      "source": [
        "# Group by 'title_description' and 'pay_basis' and calculate aggregations\n",
        "grouped_data = final_data.groupby(['title_description', 'pay_basis'])['total_pay'].agg(['mean', 'min', 'max'])\n",
        "\n",
        "# Sort the results within each group\n",
        "# You can sort by the mean, for instance, or any other aggregated field\n",
        "sorted_grouped_data = grouped_data.sort_values(by=['title_description', 'mean'], ascending=[True, False])\n",
        "\n",
        "print(sorted_grouped_data)"
      ],
      "metadata": {
        "colab": {
          "base_uri": "https://localhost:8080/"
        },
        "id": "mOwghca9y2Du",
        "outputId": "538c0dd7-ee25-4f40-dca8-38269135e86d"
      },
      "execution_count": 18,
      "outputs": [
        {
          "output_type": "stream",
          "name": "stdout",
          "text": [
            "                                                                mean  \\\n",
            "title_description                           pay_basis                  \n",
            "*attorney at law                            per Annum   90604.587576   \n",
            "*certified applications developer           per Annum  101459.845000   \n",
            "*certified database administrator           per Annum  118809.927778   \n",
            "*certified local area network administrator per Annum   90310.562727   \n",
            "*cook                                       per Annum   41351.613966   \n",
            "...                                                              ...   \n",
            "temporary clerk                             per Hour    17276.018281   \n",
            "trainer assistant                           per Annum   71020.442396   \n",
            "                                            per Hour    34341.895584   \n",
            "voting machine technician                   per Annum   50715.062313   \n",
            "youth development specialist                per Annum   38111.296093   \n",
            "\n",
            "                                                            min        max  \n",
            "title_description                           pay_basis                       \n",
            "*attorney at law                            per Annum   1884.19  132601.86  \n",
            "*certified applications developer           per Annum  93873.49  109046.20  \n",
            "*certified database administrator           per Annum  93753.65  137180.80  \n",
            "*certified local area network administrator per Annum    159.45  130993.10  \n",
            "*cook                                       per Annum   3361.15   72532.68  \n",
            "...                                                         ...        ...  \n",
            "temporary clerk                             per Hour   -1132.56   99726.25  \n",
            "trainer assistant                           per Annum    225.90  117858.99  \n",
            "                                            per Hour      40.02   82558.98  \n",
            "voting machine technician                   per Annum   -839.59  119990.38  \n",
            "youth development specialist                per Annum  -5824.52  208672.31  \n",
            "\n",
            "[265 rows x 3 columns]\n"
          ]
        }
      ]
    },
    {
      "cell_type": "markdown",
      "source": [
        "####**13. Additional Question: Group your data frame by a column, then find the mean, median, min, max, and quantiles of another column within each group. Then convert the data frame from wide to long format using the aggregated columns for the value column. only used the columns involved for display.**"
      ],
      "metadata": {
        "id": "eBii_KOA25lN"
      }
    },
    {
      "cell_type": "code",
      "source": [
        "import pandas as pd\n",
        "\n",
        "\n",
        "# Group by 'title_description' and calculate the specified aggregations\n",
        "aggregations = {\n",
        "    'total_pay': ['mean', 'median', 'min', 'max', 'quantile']\n",
        "}\n",
        "\n",
        "# Apply the aggregation functions\n",
        "grouped_data = final_data.groupby('title_description').agg(aggregations)\n",
        "\n",
        "# Compute the quantiles separately as .agg() doesn't allow parameters like 'q' in 'quantile'\n",
        "quantiles = final_data.groupby('title_description')['total_pay'].quantile([0.25, 0.5, 0.75]).unstack()\n",
        "\n",
        "# Concatenate the quantiles with the aggregations\n",
        "grouped_data = pd.concat([grouped_data, quantiles], axis=1)\n",
        "\n",
        "# Rename the multi-level columns appropriately\n",
        "grouped_data.columns = ['mean', 'median', 'min', 'max', '50%', '25%', '50%_2', '75%']\n",
        "grouped_data.drop(columns='50%_2', inplace=True)  # Drop duplicate median (50% quantile)\n",
        "\n",
        "# Reset the index to prepare for melting to long format\n",
        "grouped_data = grouped_data.reset_index()\n",
        "\n",
        "# Melt the aggregated DataFrame to long format\n",
        "long_df = grouped_data.melt(id_vars='title_description', var_name='statistic', value_name='value')\n",
        "\n",
        "# Display the resulting long-format DataFrame\n",
        "print(long_df)\n"
      ],
      "metadata": {
        "colab": {
          "base_uri": "https://localhost:8080/"
        },
        "id": "yVVYrGUr3BjW",
        "outputId": "ced871f0-8a2c-4762-d557-be49b2f70cd7"
      },
      "execution_count": 19,
      "outputs": [
        {
          "output_type": "stream",
          "name": "stdout",
          "text": [
            "                                title_description statistic          value\n",
            "0                                *attorney at law      mean   90604.587576\n",
            "1               *certified applications developer      mean  101459.845000\n",
            "2               *certified database administrator      mean  118809.927778\n",
            "3     *certified local area network administrator      mean   90310.562727\n",
            "4                                           *cook      mean   41351.613966\n",
            "...                                           ...       ...            ...\n",
            "1654                 telecommunications associate       75%   89755.640000\n",
            "1655                              temporary clerk       75%   26654.357500\n",
            "1656                            trainer assistant       75%   78576.555000\n",
            "1657                    voting machine technician       75%   62005.010000\n",
            "1658                 youth development specialist       75%   58763.270000\n",
            "\n",
            "[1659 rows x 3 columns]\n"
          ]
        }
      ]
    },
    {
      "cell_type": "markdown",
      "source": [
        "####**14. How do you save your data frame to a new file?**\n",
        "\n",
        "To save your data frame to a new file using pandas, you can use the to_csv() method if you want to save as a CSV file, or other methods like to_excel() for Excel files, to_json() for JSON format, and so on. See the code below."
      ],
      "metadata": {
        "id": "XTEihyW25lLU"
      }
    },
    {
      "cell_type": "code",
      "source": [
        "# Change the path to your directory\n",
        "long_df.to_csv('C:\\\\Users\\\\RemoteUser\\\\Documents\\DATA602\\\\long_df.csv', index=False) # Save to a CSV file\n",
        "long_df.to_json('C:\\\\Users\\\\RemoteUser\\\\Documents\\\\DATA602\\\\long_df.json', orient='split', index=False) # Save to a JSON file\n",
        "long_df.to_excel('C:\\\\Users\\\\RemoteUser\\\\Documents\\DATA602\\\\long_df.xlsx', index=False) # Save to a Excel file"
      ],
      "metadata": {
        "id": "gzXIn6cU-j5u"
      },
      "execution_count": 20,
      "outputs": []
    },
    {
      "cell_type": "markdown",
      "source": [
        "# Conclusions  \n",
        "\n",
        "After exploring your dataset, provide a short summary of what you noticed from this dataset.  What would you explore further with more time?"
      ],
      "metadata": {
        "id": "tujjevRpXEen"
      }
    },
    {
      "cell_type": "markdown",
      "source": [
        "The dataset contains payroll information for the City of New York. It lists details such as employee names, job titles, salary information, overtime hours, and other related pay details.\n",
        "\n",
        "### Key observations:\n",
        "\n",
        "1. The *Base Salary* column shows the annual pay per employee, which varies across different positions like *Emergency Preparedness Manager* and *Emergency Preparedness Specialist*.\n",
        "2. Some employees have significant overtime hours (*ot_hours*) logged, which is reflected in the *total_ot_paid* column.\n",
        "3. A few records, such as one for the *Commissioner of Emergency Management*, show substantial other pay (*total_other_pay*), potentially bonuses or other compensation types.\n",
        "4. The Leave Status as of June 30 (*leave_status_as_of_june_30*) column suggests most employees are active, but there are some ceasing cases, which could indicate end of employment or other leave types.\n",
        "\n",
        "### Further Exploration:\n",
        "\n",
        "1. Overtime Analysis: Look into what factors contribute to overtime. Is it consistent across departments, or are there certain job titles where it's more common?\n",
        "\n",
        "2. Salary Discrepancies: Investigate any significant discrepancies between base salaries for the same or similar job titles.\n",
        "\n",
        "3. Other Pay Components: Understand what comprises 'Other Pay' and whether it aligns with certain job responsibilities or performance metrics.\n",
        "\n",
        "4. Leave Status: Analyze patterns in leave status, such as if certain times of the year have higher leave rates, or if there is a connection between leave status and other variables like job title or salary.\n",
        "\n",
        "5. Time Series Analysis: For those with the 'Agency Start Date', determine patterns in tenure or changes in salary over time within the agency.\n",
        "\n",
        "6. Pay Basis and Work Location: Examine whether there are correlations between pay basis (e.g., per annum, per hour), work location borough, and the total compensation, including overtime.\n",
        "\n",
        "7. Quantitative Analysis: Calculate statistics on pay equity, average hours worked, and the proportion of income from overtime for different groups within the data.\n",
        "\n",
        "To do this analysis effectively, we would load the dataset into a pandas DataFrame, clean the data as necessary, and use statistical and visualization techniques to uncover trends and patterns."
      ],
      "metadata": {
        "id": "-1MyjuWrFugx"
      }
    }
  ]
}